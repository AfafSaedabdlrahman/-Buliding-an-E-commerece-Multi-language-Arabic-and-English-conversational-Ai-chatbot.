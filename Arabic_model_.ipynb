{
  "nbformat": 4,
  "nbformat_minor": 0,
  "metadata": {
    "colab": {
      "provenance": []
    },
    "kernelspec": {
      "name": "python3",
      "display_name": "Python 3"
    },
    "language_info": {
      "name": "python"
    }
  },
  "cells": [
    {
      "cell_type": "markdown",
      "source": [
        "### Installation"
      ],
      "metadata": {
        "id": "utow1kUQvROI"
      }
    },
    {
      "cell_type": "code",
      "source": [
        "!pip install --user -U nltk\n",
        "!pip install transformers\n",
        "!pip install farasapy\n",
        "!git clone https://github.com/aub-mind/arabert\n",
        "!pip install tashaphyne\n",
        "!pip install textblob"
      ],
      "metadata": {
        "id": "Hcg3tR_GvPZQ",
        "colab": {
          "base_uri": "https://localhost:8080/"
        },
        "outputId": "9ba493fb-584f-471f-96fd-4974c376bb25"
      },
      "execution_count": null,
      "outputs": [
        {
          "output_type": "stream",
          "name": "stdout",
          "text": [
            "Looking in indexes: https://pypi.org/simple, https://us-python.pkg.dev/colab-wheels/public/simple/\n",
            "Requirement already satisfied: nltk in /usr/local/lib/python3.7/dist-packages (3.7)\n",
            "Requirement already satisfied: joblib in /usr/local/lib/python3.7/dist-packages (from nltk) (1.2.0)\n",
            "Requirement already satisfied: click in /usr/local/lib/python3.7/dist-packages (from nltk) (7.1.2)\n",
            "Requirement already satisfied: regex>=2021.8.3 in /usr/local/lib/python3.7/dist-packages (from nltk) (2022.6.2)\n",
            "Requirement already satisfied: tqdm in /usr/local/lib/python3.7/dist-packages (from nltk) (4.64.1)\n",
            "Looking in indexes: https://pypi.org/simple, https://us-python.pkg.dev/colab-wheels/public/simple/\n",
            "Requirement already satisfied: transformers in /usr/local/lib/python3.7/dist-packages (4.23.1)\n",
            "Requirement already satisfied: tokenizers!=0.11.3,<0.14,>=0.11.1 in /usr/local/lib/python3.7/dist-packages (from transformers) (0.13.1)\n",
            "Requirement already satisfied: filelock in /usr/local/lib/python3.7/dist-packages (from transformers) (3.8.0)\n",
            "Requirement already satisfied: tqdm>=4.27 in /usr/local/lib/python3.7/dist-packages (from transformers) (4.64.1)\n",
            "Requirement already satisfied: importlib-metadata in /usr/local/lib/python3.7/dist-packages (from transformers) (4.13.0)\n",
            "Requirement already satisfied: requests in /usr/local/lib/python3.7/dist-packages (from transformers) (2.23.0)\n",
            "Requirement already satisfied: huggingface-hub<1.0,>=0.10.0 in /usr/local/lib/python3.7/dist-packages (from transformers) (0.10.1)\n",
            "Requirement already satisfied: numpy>=1.17 in /usr/local/lib/python3.7/dist-packages (from transformers) (1.21.6)\n",
            "Requirement already satisfied: pyyaml>=5.1 in /usr/local/lib/python3.7/dist-packages (from transformers) (6.0)\n",
            "Requirement already satisfied: regex!=2019.12.17 in /usr/local/lib/python3.7/dist-packages (from transformers) (2022.6.2)\n",
            "Requirement already satisfied: packaging>=20.0 in /usr/local/lib/python3.7/dist-packages (from transformers) (21.3)\n",
            "Requirement already satisfied: typing-extensions>=3.7.4.3 in /usr/local/lib/python3.7/dist-packages (from huggingface-hub<1.0,>=0.10.0->transformers) (4.1.1)\n",
            "Requirement already satisfied: pyparsing!=3.0.5,>=2.0.2 in /usr/local/lib/python3.7/dist-packages (from packaging>=20.0->transformers) (3.0.9)\n",
            "Requirement already satisfied: zipp>=0.5 in /usr/local/lib/python3.7/dist-packages (from importlib-metadata->transformers) (3.9.0)\n",
            "Requirement already satisfied: urllib3!=1.25.0,!=1.25.1,<1.26,>=1.21.1 in /usr/local/lib/python3.7/dist-packages (from requests->transformers) (1.24.3)\n",
            "Requirement already satisfied: idna<3,>=2.5 in /usr/local/lib/python3.7/dist-packages (from requests->transformers) (2.10)\n",
            "Requirement already satisfied: certifi>=2017.4.17 in /usr/local/lib/python3.7/dist-packages (from requests->transformers) (2022.9.24)\n",
            "Requirement already satisfied: chardet<4,>=3.0.2 in /usr/local/lib/python3.7/dist-packages (from requests->transformers) (3.0.4)\n",
            "Looking in indexes: https://pypi.org/simple, https://us-python.pkg.dev/colab-wheels/public/simple/\n",
            "Requirement already satisfied: farasapy in /usr/local/lib/python3.7/dist-packages (0.0.14)\n",
            "Requirement already satisfied: tqdm in /usr/local/lib/python3.7/dist-packages (from farasapy) (4.64.1)\n",
            "Requirement already satisfied: requests in /usr/local/lib/python3.7/dist-packages (from farasapy) (2.23.0)\n",
            "Requirement already satisfied: chardet<4,>=3.0.2 in /usr/local/lib/python3.7/dist-packages (from requests->farasapy) (3.0.4)\n",
            "Requirement already satisfied: urllib3!=1.25.0,!=1.25.1,<1.26,>=1.21.1 in /usr/local/lib/python3.7/dist-packages (from requests->farasapy) (1.24.3)\n",
            "Requirement already satisfied: certifi>=2017.4.17 in /usr/local/lib/python3.7/dist-packages (from requests->farasapy) (2022.9.24)\n",
            "Requirement already satisfied: idna<3,>=2.5 in /usr/local/lib/python3.7/dist-packages (from requests->farasapy) (2.10)\n",
            "fatal: destination path 'arabert' already exists and is not an empty directory.\n",
            "Looking in indexes: https://pypi.org/simple, https://us-python.pkg.dev/colab-wheels/public/simple/\n",
            "Requirement already satisfied: tashaphyne in /usr/local/lib/python3.7/dist-packages (0.3.6)\n",
            "Requirement already satisfied: pyarabic in /usr/local/lib/python3.7/dist-packages (from tashaphyne) (0.6.15)\n",
            "Requirement already satisfied: six>=1.14.0 in /usr/local/lib/python3.7/dist-packages (from pyarabic->tashaphyne) (1.15.0)\n",
            "Looking in indexes: https://pypi.org/simple, https://us-python.pkg.dev/colab-wheels/public/simple/\n",
            "Requirement already satisfied: textblob in /usr/local/lib/python3.7/dist-packages (0.15.3)\n",
            "Requirement already satisfied: nltk>=3.1 in /usr/local/lib/python3.7/dist-packages (from textblob) (3.7)\n",
            "Requirement already satisfied: tqdm in /usr/local/lib/python3.7/dist-packages (from nltk>=3.1->textblob) (4.64.1)\n",
            "Requirement already satisfied: regex>=2021.8.3 in /usr/local/lib/python3.7/dist-packages (from nltk>=3.1->textblob) (2022.6.2)\n",
            "Requirement already satisfied: click in /usr/local/lib/python3.7/dist-packages (from nltk>=3.1->textblob) (7.1.2)\n",
            "Requirement already satisfied: joblib in /usr/local/lib/python3.7/dist-packages (from nltk>=3.1->textblob) (1.2.0)\n"
          ]
        }
      ]
    },
    {
      "cell_type": "markdown",
      "source": [
        "### Import libraries"
      ],
      "metadata": {
        "id": "Fj_zG3b_vb3I"
      }
    },
    {
      "cell_type": "code",
      "execution_count": null,
      "metadata": {
        "id": "rU8XN1x-m_26"
      },
      "outputs": [],
      "source": [
        "import re\n",
        "import random\n",
        "import pandas as pd\n",
        "pd.set_option('mode.chained_assignment', None)\n",
        "import numpy as np\n",
        "from setuptools import setup\n",
        "import re\n",
        "import nltk\n",
        "from arabert.preprocess import ArabertPreprocessor\n",
        "from nltk.corpus import stopwords\n",
        "from textblob import TextBlob\n",
        "from tashaphyne.stemming import ArabicLightStemmer\n",
        "from nltk.corpus import stopwords\n",
        "import string\n",
        "import sys\n",
        "import argparse\n",
        "import json\n",
        "import re\n",
        "import tensorflow as tf\n",
        "from tensorflow.keras.preprocessing.text import Tokenizer\n",
        "from tensorflow.keras.preprocessing.sequence import pad_sequences\n",
        "import seaborn as sns\n",
        "import matplotlib.pyplot as plt\n",
        "from tensorflow import keras\n",
        "from tensorflow.keras.layers import Dense,Input,Dropout\n",
        "from tensorflow.keras.optimizers import SGD,Adam,RMSprop\n",
        "from tensorflow.keras.utils import to_categorical\n",
        "import os\n",
        "from keras.models import Model"
      ]
    },
    {
      "cell_type": "code",
      "source": [
        "from google.colab import drive\n",
        "drive.mount('/content/drive')"
      ],
      "metadata": {
        "colab": {
          "base_uri": "https://localhost:8080/"
        },
        "id": "5fiODw-RnD8f",
        "outputId": "be63fb80-dcd2-4d5b-c4aa-c30f1272f79f"
      },
      "execution_count": null,
      "outputs": [
        {
          "output_type": "stream",
          "name": "stdout",
          "text": [
            "Mounted at /content/drive\n"
          ]
        }
      ]
    },
    {
      "cell_type": "code",
      "source": [
        "df=pd.read_csv('/content/drive/MyDrive/rashad.csv',on_bad_lines='skip',delimiter = \"\\t\")\n",
        "df= df.drop(labels=range(0, 3), axis=0)\n",
        "df.columns=['arabic_question','arabic_Answer']"
      ],
      "metadata": {
        "id": "EVOk6XfNnQ6P"
      },
      "execution_count": null,
      "outputs": []
    },
    {
      "cell_type": "code",
      "source": [
        "df.head(100)"
      ],
      "metadata": {
        "colab": {
          "base_uri": "https://localhost:8080/",
          "height": 424
        },
        "id": "zw86y6oOncYu",
        "outputId": "25b5c3ed-82a9-40f1-85d2-de6672a41277"
      },
      "execution_count": null,
      "outputs": [
        {
          "output_type": "execute_result",
          "data": {
            "text/plain": [
              "                         arabic_question                  arabic_Answer\n",
              "3                                  صباحو                صباح النور تفضل\n",
              "4                             صباح الخير                صباح النور تفضل\n",
              "5                           السلام عليكم             وعليكم السلام تفضل\n",
              "6                                  مسائو                   مسالنور تفضل\n",
              "7                              مسا الخير                   مسالنور تفضل\n",
              "..                                   ...                            ...\n",
              "98                  هل الجاكية رقم 1 قطن        نعم الجاكية رقم 1 قطنية\n",
              "99   هل يوجد مقاس مختلف من الجاكيت رقم 1  لدي مقاسات ولكن من جواكي اخرى\n",
              "100     يوجد مقاس مختلف من الجاكيت رقم 1  لدي مقاسات ولكن من جواكي اخرى\n",
              "101    أيوجد مقاس مختلف من الجاكيت رقم 1  لدي مقاسات ولكن من جواكي اخرى\n",
              "102     عندك مقاس مختلف من الجاكيت رقم 1  لدي مقاسات ولكن من جواكي اخرى\n",
              "\n",
              "[100 rows x 2 columns]"
            ],
            "text/html": [
              "\n",
              "  <div id=\"df-5fa5cd54-5605-4efc-a0e0-2d26865e5f6f\">\n",
              "    <div class=\"colab-df-container\">\n",
              "      <div>\n",
              "<style scoped>\n",
              "    .dataframe tbody tr th:only-of-type {\n",
              "        vertical-align: middle;\n",
              "    }\n",
              "\n",
              "    .dataframe tbody tr th {\n",
              "        vertical-align: top;\n",
              "    }\n",
              "\n",
              "    .dataframe thead th {\n",
              "        text-align: right;\n",
              "    }\n",
              "</style>\n",
              "<table border=\"1\" class=\"dataframe\">\n",
              "  <thead>\n",
              "    <tr style=\"text-align: right;\">\n",
              "      <th></th>\n",
              "      <th>arabic_question</th>\n",
              "      <th>arabic_Answer</th>\n",
              "    </tr>\n",
              "  </thead>\n",
              "  <tbody>\n",
              "    <tr>\n",
              "      <th>3</th>\n",
              "      <td>صباحو</td>\n",
              "      <td>صباح النور تفضل</td>\n",
              "    </tr>\n",
              "    <tr>\n",
              "      <th>4</th>\n",
              "      <td>صباح الخير</td>\n",
              "      <td>صباح النور تفضل</td>\n",
              "    </tr>\n",
              "    <tr>\n",
              "      <th>5</th>\n",
              "      <td>السلام عليكم</td>\n",
              "      <td>وعليكم السلام تفضل</td>\n",
              "    </tr>\n",
              "    <tr>\n",
              "      <th>6</th>\n",
              "      <td>مسائو</td>\n",
              "      <td>مسالنور تفضل</td>\n",
              "    </tr>\n",
              "    <tr>\n",
              "      <th>7</th>\n",
              "      <td>مسا الخير</td>\n",
              "      <td>مسالنور تفضل</td>\n",
              "    </tr>\n",
              "    <tr>\n",
              "      <th>...</th>\n",
              "      <td>...</td>\n",
              "      <td>...</td>\n",
              "    </tr>\n",
              "    <tr>\n",
              "      <th>98</th>\n",
              "      <td>هل الجاكية رقم 1 قطن</td>\n",
              "      <td>نعم الجاكية رقم 1 قطنية</td>\n",
              "    </tr>\n",
              "    <tr>\n",
              "      <th>99</th>\n",
              "      <td>هل يوجد مقاس مختلف من الجاكيت رقم 1</td>\n",
              "      <td>لدي مقاسات ولكن من جواكي اخرى</td>\n",
              "    </tr>\n",
              "    <tr>\n",
              "      <th>100</th>\n",
              "      <td>يوجد مقاس مختلف من الجاكيت رقم 1</td>\n",
              "      <td>لدي مقاسات ولكن من جواكي اخرى</td>\n",
              "    </tr>\n",
              "    <tr>\n",
              "      <th>101</th>\n",
              "      <td>أيوجد مقاس مختلف من الجاكيت رقم 1</td>\n",
              "      <td>لدي مقاسات ولكن من جواكي اخرى</td>\n",
              "    </tr>\n",
              "    <tr>\n",
              "      <th>102</th>\n",
              "      <td>عندك مقاس مختلف من الجاكيت رقم 1</td>\n",
              "      <td>لدي مقاسات ولكن من جواكي اخرى</td>\n",
              "    </tr>\n",
              "  </tbody>\n",
              "</table>\n",
              "<p>100 rows × 2 columns</p>\n",
              "</div>\n",
              "      <button class=\"colab-df-convert\" onclick=\"convertToInteractive('df-5fa5cd54-5605-4efc-a0e0-2d26865e5f6f')\"\n",
              "              title=\"Convert this dataframe to an interactive table.\"\n",
              "              style=\"display:none;\">\n",
              "        \n",
              "  <svg xmlns=\"http://www.w3.org/2000/svg\" height=\"24px\"viewBox=\"0 0 24 24\"\n",
              "       width=\"24px\">\n",
              "    <path d=\"M0 0h24v24H0V0z\" fill=\"none\"/>\n",
              "    <path d=\"M18.56 5.44l.94 2.06.94-2.06 2.06-.94-2.06-.94-.94-2.06-.94 2.06-2.06.94zm-11 1L8.5 8.5l.94-2.06 2.06-.94-2.06-.94L8.5 2.5l-.94 2.06-2.06.94zm10 10l.94 2.06.94-2.06 2.06-.94-2.06-.94-.94-2.06-.94 2.06-2.06.94z\"/><path d=\"M17.41 7.96l-1.37-1.37c-.4-.4-.92-.59-1.43-.59-.52 0-1.04.2-1.43.59L10.3 9.45l-7.72 7.72c-.78.78-.78 2.05 0 2.83L4 21.41c.39.39.9.59 1.41.59.51 0 1.02-.2 1.41-.59l7.78-7.78 2.81-2.81c.8-.78.8-2.07 0-2.86zM5.41 20L4 18.59l7.72-7.72 1.47 1.35L5.41 20z\"/>\n",
              "  </svg>\n",
              "      </button>\n",
              "      \n",
              "  <style>\n",
              "    .colab-df-container {\n",
              "      display:flex;\n",
              "      flex-wrap:wrap;\n",
              "      gap: 12px;\n",
              "    }\n",
              "\n",
              "    .colab-df-convert {\n",
              "      background-color: #E8F0FE;\n",
              "      border: none;\n",
              "      border-radius: 50%;\n",
              "      cursor: pointer;\n",
              "      display: none;\n",
              "      fill: #1967D2;\n",
              "      height: 32px;\n",
              "      padding: 0 0 0 0;\n",
              "      width: 32px;\n",
              "    }\n",
              "\n",
              "    .colab-df-convert:hover {\n",
              "      background-color: #E2EBFA;\n",
              "      box-shadow: 0px 1px 2px rgba(60, 64, 67, 0.3), 0px 1px 3px 1px rgba(60, 64, 67, 0.15);\n",
              "      fill: #174EA6;\n",
              "    }\n",
              "\n",
              "    [theme=dark] .colab-df-convert {\n",
              "      background-color: #3B4455;\n",
              "      fill: #D2E3FC;\n",
              "    }\n",
              "\n",
              "    [theme=dark] .colab-df-convert:hover {\n",
              "      background-color: #434B5C;\n",
              "      box-shadow: 0px 1px 3px 1px rgba(0, 0, 0, 0.15);\n",
              "      filter: drop-shadow(0px 1px 2px rgba(0, 0, 0, 0.3));\n",
              "      fill: #FFFFFF;\n",
              "    }\n",
              "  </style>\n",
              "\n",
              "      <script>\n",
              "        const buttonEl =\n",
              "          document.querySelector('#df-5fa5cd54-5605-4efc-a0e0-2d26865e5f6f button.colab-df-convert');\n",
              "        buttonEl.style.display =\n",
              "          google.colab.kernel.accessAllowed ? 'block' : 'none';\n",
              "\n",
              "        async function convertToInteractive(key) {\n",
              "          const element = document.querySelector('#df-5fa5cd54-5605-4efc-a0e0-2d26865e5f6f');\n",
              "          const dataTable =\n",
              "            await google.colab.kernel.invokeFunction('convertToInteractive',\n",
              "                                                     [key], {});\n",
              "          if (!dataTable) return;\n",
              "\n",
              "          const docLinkHtml = 'Like what you see? Visit the ' +\n",
              "            '<a target=\"_blank\" href=https://colab.research.google.com/notebooks/data_table.ipynb>data table notebook</a>'\n",
              "            + ' to learn more about interactive tables.';\n",
              "          element.innerHTML = '';\n",
              "          dataTable['output_type'] = 'display_data';\n",
              "          await google.colab.output.renderOutput(dataTable, element);\n",
              "          const docLink = document.createElement('div');\n",
              "          docLink.innerHTML = docLinkHtml;\n",
              "          element.appendChild(docLink);\n",
              "        }\n",
              "      </script>\n",
              "    </div>\n",
              "  </div>\n",
              "  "
            ]
          },
          "metadata": {},
          "execution_count": 8
        }
      ]
    },
    {
      "cell_type": "markdown",
      "source": [
        "Info about the dataset"
      ],
      "metadata": {
        "id": "eytaGVdWvnSs"
      }
    },
    {
      "cell_type": "code",
      "source": [
        "df.info()"
      ],
      "metadata": {
        "colab": {
          "base_uri": "https://localhost:8080/"
        },
        "id": "39HTFAkUvnl9",
        "outputId": "61df22aa-4789-4856-c7d3-2c5d8b06bb96"
      },
      "execution_count": null,
      "outputs": [
        {
          "output_type": "stream",
          "name": "stdout",
          "text": [
            "<class 'pandas.core.frame.DataFrame'>\n",
            "Int64Index: 13035 entries, 3 to 13037\n",
            "Data columns (total 2 columns):\n",
            " #   Column           Non-Null Count  Dtype \n",
            "---  ------           --------------  ----- \n",
            " 0   arabic_question  13035 non-null  object\n",
            " 1   arabic_Answer    13035 non-null  object\n",
            "dtypes: object(2)\n",
            "memory usage: 305.5+ KB\n"
          ]
        }
      ]
    },
    {
      "cell_type": "code",
      "source": [
        "print(df.duplicated().sum()) #check duplicates\n",
        "print(df.isnull().sum()) #check null values"
      ],
      "metadata": {
        "colab": {
          "base_uri": "https://localhost:8080/"
        },
        "id": "9RbdNlNdM7Ip",
        "outputId": "e1859a16-ac80-4791-a44a-ca7d17343c1c"
      },
      "execution_count": null,
      "outputs": [
        {
          "output_type": "stream",
          "name": "stdout",
          "text": [
            "596\n",
            "arabic_question    0\n",
            "arabic_Answer      0\n",
            "dtype: int64\n"
          ]
        }
      ]
    },
    {
      "cell_type": "code",
      "source": [
        "print(df.drop_duplicates(inplace=True,keep='last'))"
      ],
      "metadata": {
        "colab": {
          "base_uri": "https://localhost:8080/"
        },
        "id": "-QZhthbsXaYd",
        "outputId": "a5b56a0d-295e-41d1-c6c6-08584bd840a8"
      },
      "execution_count": null,
      "outputs": [
        {
          "output_type": "stream",
          "name": "stdout",
          "text": [
            "None\n"
          ]
        }
      ]
    },
    {
      "cell_type": "code",
      "source": [
        "df1=df.copy() #make a copy from dataset"
      ],
      "metadata": {
        "id": "yzF8OXUVQeUF"
      },
      "execution_count": null,
      "outputs": []
    },
    {
      "cell_type": "code",
      "source": [
        "df1['arabic_Answer'] = df['arabic_Answer'].str.split('$').str.get(0) # split sentences from $ until the end"
      ],
      "metadata": {
        "id": "3rFaYdjgFo34"
      },
      "execution_count": null,
      "outputs": []
    },
    {
      "cell_type": "code",
      "source": [
        "df1['arabic_Answer']"
      ],
      "metadata": {
        "colab": {
          "base_uri": "https://localhost:8080/"
        },
        "id": "7d78qDenNejc",
        "outputId": "4153aa52-5b11-4d80-eb8d-5d69120f5a10"
      },
      "execution_count": null,
      "outputs": [
        {
          "output_type": "execute_result",
          "data": {
            "text/plain": [
              "3                 صباح النور تفضل\n",
              "4                 صباح النور تفضل\n",
              "5              وعليكم السلام تفضل\n",
              "6                    مسالنور تفضل\n",
              "7                    مسالنور تفضل\n",
              "                   ...           \n",
              "13033    تقصد الرجالي أم النسائي \n",
              "13034    تقصد الرجالي أم النسائي \n",
              "13035    تقصد الرجالي أم النسائي \n",
              "13036    تقصد الرجالي أم النسائي \n",
              "13037    تقصد الرجالي أم النسائي \n",
              "Name: arabic_Answer, Length: 12439, dtype: object"
            ]
          },
          "metadata": {},
          "execution_count": 14
        }
      ]
    },
    {
      "cell_type": "markdown",
      "source": [
        "### Preprocessing part"
      ],
      "metadata": {
        "id": "KnXB-rarwN6V"
      }
    },
    {
      "cell_type": "code",
      "source": [
        "import pyarabic.araby as araby\n",
        "def normalizeArabic(text):\n",
        "  text = text.strip()\n",
        "  text = re.sub(\"[إأٱآا]\", \"ا\", text)\n",
        "  text = re.sub(\"ى\", \"ي\", text)\n",
        "  text = re.sub(\"ؤ\", \"ء\", text)\n",
        "  text = re.sub(\"ئ\", \"ء\", text)\n",
        "  text = re.sub(\"ة\", \"ه\", text)\n",
        "  text = re.sub(\"او\", \"\", text)\n",
        "  noise = re.compile(\"\"\" ّ    | # Tashdid\n",
        "                        َ    | # Fatha\n",
        "                        ً    | # Tanwin Fath\n",
        "                        ُ    | # Damma\n",
        "                        ٌ    | # Tanwin Damm\n",
        "                        ِ    | # Kasra\n",
        "                        ٍ    | # Tanwin Kasr\n",
        "                        ْ    | # Sukun\n",
        "                        ـ     # Tatwil/Kashida\n",
        "                    \"\"\", re.VERBOSE)\n",
        "  text = re.sub(noise, '', text)\n",
        "  text= re.sub('[\\\\s]+',\" \",text) # Remove all spaces\n",
        "  return araby.strip_tashkeel(text)"
      ],
      "metadata": {
        "id": "IFTyAv3YwpVs"
      },
      "execution_count": null,
      "outputs": []
    },
    {
      "cell_type": "code",
      "source": [
        "arabic_punctuations = '''`÷×؛<>_()*&^%][ـ،/:\"؟.,'{}~¦+|!”…“–ـ'''\n",
        "english_punctuations = string.punctuation\n",
        "punctuations_list = arabic_punctuations + english_punctuations\n",
        "def remove_punctuations(text):\n",
        "    translator = str.maketrans('', '', punctuations_list)\n",
        "    return text.translate(translator)"
      ],
      "metadata": {
        "id": "SFUWwmb214qT"
      },
      "execution_count": null,
      "outputs": []
    },
    {
      "cell_type": "code",
      "source": [
        "df1['arabic_Answer']=  df1.arabic_Answer.apply(lambda elem:normalizeArabic(elem))"
      ],
      "metadata": {
        "id": "M3JsIlZOv7ok"
      },
      "execution_count": null,
      "outputs": []
    },
    {
      "cell_type": "code",
      "source": [
        "df1.arabic_question=  df1.arabic_question.apply(lambda elem:normalizeArabic(elem))"
      ],
      "metadata": {
        "id": "sjhJWExa0hFc"
      },
      "execution_count": null,
      "outputs": []
    },
    {
      "cell_type": "code",
      "source": [
        "df1['arabic_question'] =  df1['arabic_question'].apply(lambda elem: remove_punctuations(elem))\n",
        "df1['arabic_Answer'] =  df1['arabic_Answer'].apply(lambda elem: remove_punctuations(elem))\n"
      ],
      "metadata": {
        "id": "M4A9-eur2EMn"
      },
      "execution_count": null,
      "outputs": []
    },
    {
      "cell_type": "markdown",
      "source": [
        "#model"
      ],
      "metadata": {
        "id": "AUVjrFlTgftv"
      }
    },
    {
      "cell_type": "code",
      "source": [
        "questions =  df1.arabic_question\t.values.tolist()\n",
        "print(len(questions))\n",
        "answers = df1.arabic_Answer.values.tolist()\n",
        "print(len(answers))"
      ],
      "metadata": {
        "colab": {
          "base_uri": "https://localhost:8080/"
        },
        "id": "fH5WOyakgive",
        "outputId": "789110b7-5934-4110-e065-a0e70c96bc7a"
      },
      "execution_count": null,
      "outputs": [
        {
          "output_type": "stream",
          "name": "stdout",
          "text": [
            "12439\n",
            "12439\n"
          ]
        }
      ]
    },
    {
      "cell_type": "code",
      "source": [
        "# add a start word at the beginning of the sentence and an end word at the end.\n",
        "answers_with_tags = list()\n",
        "for i in range( len( answers ) ):\n",
        "    if type( answers[i] ) == str :\n",
        "        answers_with_tags.append( answers[i] )\n",
        "    else:\n",
        "        questions.pop( i )\n",
        "answers = list()\n",
        "for i in range( len( answers_with_tags ) ) :\n",
        "    answers.append('<START>'+answers_with_tags[i]+ ' <END>' )"
      ],
      "metadata": {
        "id": "TdBygnD1gi0w"
      },
      "execution_count": null,
      "outputs": []
    },
    {
      "cell_type": "code",
      "source": [
        "import pickle\n",
        "with open('answers_arabic.pkl', 'wb') as file:\n",
        "    pickle.dump(answers, file)\n",
        "with open('questions_arabic.pkl', 'wb') as file:\n",
        "    pickle.dump(questions, file)"
      ],
      "metadata": {
        "id": "seTg71EvYuYI"
      },
      "execution_count": null,
      "outputs": []
    },
    {
      "cell_type": "code",
      "source": [
        "tokenizer =Tokenizer()\n",
        "tokenizer.fit_on_texts( questions + answers )\n",
        "VOCAB_SIZE = len( tokenizer.word_index )+1\n",
        "print( 'VOCAB SIZE : {}'.format( VOCAB_SIZE ))\n",
        "##Encoder\n",
        "tokenizer = Tokenizer()\n",
        "tokenizer.fit_on_texts( questions ) \n",
        "tokenized_questions = tokenizer.texts_to_sequences( questions ) \n",
        "\n",
        "max_input_length= max(len(seq) for seq in tokenized_questions)\n",
        "print('max_input_length: ', max_input_length)\n",
        "\n",
        "padded_questions =pad_sequences( tokenized_questions , maxlen=max_input_length , padding='post' )\n",
        "encoder_input_data = np.array( padded_questions )\n",
        "print( 'Encoder input data shape -> {}'.format( encoder_input_data.shape ))\n",
        "\n",
        "input_word_dict = tokenizer.word_index\n",
        "num_input_tokens = len( input_word_dict )+1\n",
        "print( 'Number of input tokens = {}'.format( num_input_tokens))\n",
        "##Decoder\n",
        "tokenizer = Tokenizer()\n",
        "tokenizer.fit_on_texts( answers ) \n",
        "tokenized_output_lines = tokenizer.texts_to_sequences( answers ) \n",
        "max_output_length= max(len(seq) for seq in tokenized_output_lines)\n",
        "print('max_output_length: ', max_output_length)\n",
        "\n",
        "padded_output_lines =pad_sequences( tokenized_output_lines , maxlen=max_output_length, padding='post' )\n",
        "decoder_input_data = np.array( padded_output_lines )\n",
        "print( 'Decoder input data shape -> {}'.format( decoder_input_data.shape ))\n",
        "\n",
        "output_word_dict = tokenizer.word_index\n",
        "num_output_tokens = len( output_word_dict )+1\n",
        "print( 'Number of Output tokens = {}'.format( num_output_tokens))\n",
        "decoder_target_data = list()\n",
        "for token_seq in tokenized_output_lines:\n",
        "    decoder_target_data.append( token_seq[ 1 : ] ) \n",
        "    \n",
        "padded_output_lines =pad_sequences( decoder_target_data , maxlen=max_output_length, padding='post' )\n",
        "onehot_output_lines =to_categorical( padded_output_lines , VOCAB_SIZE )\n",
        "decoder_target_data = np.array(onehot_output_lines )\n",
        "print( 'Decoder target data shape -> {}'.format( decoder_target_data.shape ))"
      ],
      "metadata": {
        "colab": {
          "base_uri": "https://localhost:8080/"
        },
        "id": "Nj-bi8rTQOy2",
        "outputId": "661f4162-4fdb-4b23-ff0c-cd088b726438"
      },
      "execution_count": null,
      "outputs": [
        {
          "output_type": "stream",
          "name": "stdout",
          "text": [
            "VOCAB SIZE : 550\n",
            "max_input_length:  10\n",
            "Encoder input data shape -> (12439, 10)\n",
            "Number of input tokens = 439\n",
            "max_output_length:  18\n",
            "Decoder input data shape -> (12439, 18)\n",
            "Number of Output tokens = 327\n",
            "Decoder target data shape -> (12439, 18, 550)\n"
          ]
        }
      ]
    },
    {
      "cell_type": "code",
      "source": [
        "#Encoder\n",
        "encoder_inputs = tf.keras.layers.Input(shape=( None , )) # none or max length for the question\n",
        "encoder_embedding = tf.keras.layers.Embedding( VOCAB_SIZE, 100 , mask_zero=True ) (encoder_inputs)\n",
        "encoder_outputs , state_h , state_c = tf.keras.layers.LSTM( 64 , return_state=True ,dropout=0.3)( encoder_embedding )\n",
        "encoder_states = [ state_h , state_c ]\n",
        "#decoder\n",
        "decoder_inputs = tf.keras.layers.Input(shape=( None ,  )) #none or max length for the answers\n",
        "decoder_embedding = tf.keras.layers.Embedding( VOCAB_SIZE, 100 , mask_zero=True) (decoder_inputs)\n",
        "decoder_lstm = tf.keras.layers.LSTM( 64 , return_state=True , return_sequences=True,dropout=0.3 )\n",
        "decoder_outputs , _ , _ = decoder_lstm ( decoder_embedding , initial_state=encoder_states )\n",
        "decoder_dense = tf.keras.layers.Dense( VOCAB_SIZE , activation=tf.keras.activations.softmax ) \n",
        "output = decoder_dense ( decoder_outputs )\n",
        "\n",
        "model = tf.keras.models.Model([encoder_inputs, decoder_inputs], output )\n",
        "model.compile(optimizer=tf.keras.optimizers.RMSprop(learning_rate=0.001), loss='categorical_crossentropy',metrics=['acc'])\n",
        "\n",
        "model.summary()\n",
        "h=model.fit([encoder_input_data , decoder_input_data], decoder_target_data, batch_size=32, epochs=23) \n"
      ],
      "metadata": {
        "colab": {
          "base_uri": "https://localhost:8080/"
        },
        "id": "t5aF8G99gjEa",
        "outputId": "442d3425-fbd7-4b33-f454-d179429ec50f"
      },
      "execution_count": null,
      "outputs": [
        {
          "output_type": "stream",
          "name": "stdout",
          "text": [
            "Model: \"model\"\n",
            "__________________________________________________________________________________________________\n",
            " Layer (type)                   Output Shape         Param #     Connected to                     \n",
            "==================================================================================================\n",
            " input_1 (InputLayer)           [(None, None)]       0           []                               \n",
            "                                                                                                  \n",
            " input_2 (InputLayer)           [(None, None)]       0           []                               \n",
            "                                                                                                  \n",
            " embedding (Embedding)          (None, None, 100)    55000       ['input_1[0][0]']                \n",
            "                                                                                                  \n",
            " embedding_1 (Embedding)        (None, None, 100)    55000       ['input_2[0][0]']                \n",
            "                                                                                                  \n",
            " lstm (LSTM)                    [(None, 64),         42240       ['embedding[0][0]']              \n",
            "                                 (None, 64),                                                      \n",
            "                                 (None, 64)]                                                      \n",
            "                                                                                                  \n",
            " lstm_1 (LSTM)                  [(None, None, 64),   42240       ['embedding_1[0][0]',            \n",
            "                                 (None, 64),                      'lstm[0][1]',                   \n",
            "                                 (None, 64)]                      'lstm[0][2]']                   \n",
            "                                                                                                  \n",
            " dense (Dense)                  (None, None, 550)    35750       ['lstm_1[0][0]']                 \n",
            "                                                                                                  \n",
            "==================================================================================================\n",
            "Total params: 230,230\n",
            "Trainable params: 230,230\n",
            "Non-trainable params: 0\n",
            "__________________________________________________________________________________________________\n",
            "Epoch 1/23\n",
            "389/389 [==============================] - 22s 25ms/step - loss: 0.8559 - acc: 0.4556\n",
            "Epoch 2/23\n",
            "389/389 [==============================] - 10s 25ms/step - loss: 0.3597 - acc: 0.7473\n",
            "Epoch 3/23\n",
            "389/389 [==============================] - 10s 25ms/step - loss: 0.2236 - acc: 0.8409\n",
            "Epoch 4/23\n",
            "389/389 [==============================] - 10s 25ms/step - loss: 0.1647 - acc: 0.8787\n",
            "Epoch 5/23\n",
            "389/389 [==============================] - 11s 29ms/step - loss: 0.1343 - acc: 0.9007\n",
            "Epoch 6/23\n",
            "389/389 [==============================] - 10s 24ms/step - loss: 0.1158 - acc: 0.9129\n",
            "Epoch 7/23\n",
            "389/389 [==============================] - 9s 24ms/step - loss: 0.1043 - acc: 0.9213\n",
            "Epoch 8/23\n",
            "389/389 [==============================] - 9s 24ms/step - loss: 0.0956 - acc: 0.9271\n",
            "Epoch 9/23\n",
            "389/389 [==============================] - 10s 25ms/step - loss: 0.0886 - acc: 0.9323\n",
            "Epoch 10/23\n",
            "389/389 [==============================] - 9s 24ms/step - loss: 0.0820 - acc: 0.9365\n",
            "Epoch 11/23\n",
            "389/389 [==============================] - 10s 25ms/step - loss: 0.0768 - acc: 0.9408\n",
            "Epoch 12/23\n",
            "389/389 [==============================] - 9s 24ms/step - loss: 0.0723 - acc: 0.9445\n",
            "Epoch 13/23\n",
            "389/389 [==============================] - 9s 24ms/step - loss: 0.0682 - acc: 0.9472\n",
            "Epoch 14/23\n",
            "389/389 [==============================] - 10s 24ms/step - loss: 0.0640 - acc: 0.9507\n",
            "Epoch 15/23\n",
            "389/389 [==============================] - 10s 24ms/step - loss: 0.0602 - acc: 0.9539\n",
            "Epoch 16/23\n",
            "389/389 [==============================] - 10s 25ms/step - loss: 0.0568 - acc: 0.9569\n",
            "Epoch 17/23\n",
            "389/389 [==============================] - 11s 28ms/step - loss: 0.0539 - acc: 0.9588\n",
            "Epoch 18/23\n",
            "389/389 [==============================] - 10s 24ms/step - loss: 0.0510 - acc: 0.9616\n",
            "Epoch 19/23\n",
            "389/389 [==============================] - 10s 25ms/step - loss: 0.0482 - acc: 0.9639\n",
            "Epoch 20/23\n",
            "389/389 [==============================] - 10s 24ms/step - loss: 0.0457 - acc: 0.9661\n",
            "Epoch 21/23\n",
            "389/389 [==============================] - 9s 24ms/step - loss: 0.0436 - acc: 0.9680\n",
            "Epoch 22/23\n",
            "389/389 [==============================] - 9s 24ms/step - loss: 0.0413 - acc: 0.9704\n",
            "Epoch 23/23\n",
            "389/389 [==============================] - 9s 24ms/step - loss: 0.0389 - acc: 0.9725\n"
          ]
        }
      ]
    },
    {
      "cell_type": "code",
      "source": [
        "from keras.utils.vis_utils import plot_model\n",
        "plot_model(model, to_file='model_plot.png', show_shapes=True, show_layer_names=True)   # plot model"
      ],
      "metadata": {
        "colab": {
          "base_uri": "https://localhost:8080/",
          "height": 435
        },
        "id": "KokldyhRW6F3",
        "outputId": "94fba5ba-73fe-4be4-8561-c8b98138ba88"
      },
      "execution_count": null,
      "outputs": [
        {
          "output_type": "execute_result",
          "data": {
            "image/png": "[encoded data removed]",
            "text/plain": [
              "<IPython.core.display.Image object>"
            ]
          },
          "metadata": {},
          "execution_count": 21
        }
      ]
    },
    {
      "cell_type": "code",
      "source": [
        "def make_inference_models():\n",
        "    \n",
        "    encoder_model = tf.keras.models.Model(encoder_inputs, encoder_states)\n",
        "    \n",
        "    decoder_state_input_h = tf.keras.layers.Input(shape=( 64 ,))\n",
        "    decoder_state_input_c = tf.keras.layers.Input(shape=( 64 ,))\n",
        "    \n",
        "    decoder_states_inputs = [decoder_state_input_h, decoder_state_input_c]\n",
        "    \n",
        "    decoder_outputs, state_h, state_c = decoder_lstm(\n",
        "        decoder_embedding , initial_state=decoder_states_inputs)\n",
        "    decoder_states = [state_h, state_c]\n",
        "    decoder_outputs = decoder_dense(decoder_outputs)\n",
        "    decoder_model = tf.keras.models.Model(\n",
        "        [decoder_inputs] + decoder_states_inputs,\n",
        "        [decoder_outputs] + decoder_states)\n",
        "    \n",
        "    return encoder_model , decoder_model\n",
        "def str_to_tokens( sentence : str ):\n",
        "    words =normalizeArabic(sentence).split()\n",
        "    tokens_list = list()\n",
        "    for word in words:\n",
        "        tokens_list.append( tokenizer.word_index[ word ] ) \n",
        "    return pad_sequences( [tokens_list] , maxlen=max_input_length , padding='post')"
      ],
      "metadata": {
        "id": "GOJWtMjDgjIV"
      },
      "execution_count": null,
      "outputs": []
    },
    {
      "cell_type": "code",
      "source": [
        "enc_model , dec_model = make_inference_models()\n",
        "enc_model=enc_model.save('Arabic_encoder_model.h5')\n",
        "dec_model=dec_model.save('Arabic_decoder_model.h5')"
      ],
      "metadata": {
        "id": "_m_kl7rUVA-_"
      },
      "execution_count": null,
      "outputs": []
    },
    {
      "cell_type": "code",
      "source": [
        "def decode_response(text):\n",
        "        states_values = enc_model.predict(text )\n",
        "        empty_target_seq = np.zeros( ( 1 , 1 ) )\n",
        "        empty_target_seq[0, 0] = tokenizer.word_index['start']\n",
        "        stop_condition = False\n",
        "        decoded_translation = ''\n",
        "        while not stop_condition :\n",
        "            dec_outputs , h , c = dec_model.predict([ empty_target_seq ] + states_values )\n",
        "            sampled_word_index = np.argmax( dec_outputs[0, -1, :] )\n",
        "            sampled_word = None\n",
        "            for word , index in tokenizer.word_index.items() :\n",
        "                if sampled_word_index == index :\n",
        "                    decoded_translation += ' {}'.format( word )\n",
        "                    sampled_word = word\n",
        "#             else:\n",
        "#                 decoded_translation = \"I am sorry! I don't understand you\"\n",
        "        \n",
        "            if sampled_word == 'end' or len(decoded_translation.split()) > max_output_length:\n",
        "               stop_condition = True\n",
        "            \n",
        "            empty_target_seq = np.zeros( ( 1 , 1 ) )  \n",
        "            empty_target_seq[ 0 , 0 ] = sampled_word_index\n",
        "            states_values = [ h , c ] \n",
        "        return \"Bot:\" +decoded_translation.replace(' end', '')"
      ],
      "metadata": {
        "id": "2DvXSUHCgjMx"
      },
      "execution_count": null,
      "outputs": []
    },
    {
      "cell_type": "code",
      "source": [
        "def generate_response(text):\n",
        "    input_matrix = str_to_tokens(text)\n",
        "    chatbot_response = decode_response(input_matrix)\n",
        "  #Remove <START> and <END> tokens from chatbot_response\n",
        "    chatbot_response = chatbot_response.replace(\"<START>\",'')\n",
        "    chatbot_response = chatbot_response.replace(\"<END>\",'')\n",
        "    return chatbot_response"
      ],
      "metadata": {
        "id": "RruEyAh4gjRY"
      },
      "execution_count": null,
      "outputs": []
    },
    {
      "cell_type": "code",
      "source": [
        "generate_response(\"مقاس 38 من البنطال الجينز الأسود\")"
      ],
      "metadata": {
        "colab": {
          "base_uri": "https://localhost:8080/",
          "height": 163
        },
        "id": "Q4ZWOGBXgjV5",
        "outputId": "9b58f52b-fed9-435c-a0e5-ee16be0fdce9"
      },
      "execution_count": null,
      "outputs": [
        {
          "output_type": "stream",
          "name": "stdout",
          "text": [
            "1/1 [==============================] - 1s 1s/step\n",
            "1/1 [==============================] - 1s 1s/step\n",
            "1/1 [==============================] - 0s 21ms/step\n",
            "1/1 [==============================] - 0s 14ms/step\n",
            "1/1 [==============================] - 0s 14ms/step\n",
            "1/1 [==============================] - 0s 15ms/step\n",
            "1/1 [==============================] - 0s 14ms/step\n"
          ]
        },
        {
          "output_type": "execute_result",
          "data": {
            "text/plain": [
              "'Bot: يوجد مقاساتات من موديل اخر'"
            ],
            "application/vnd.google.colaboratory.intrinsic+json": {
              "type": "string"
            }
          },
          "metadata": {},
          "execution_count": 26
        }
      ]
    }
  ]
}